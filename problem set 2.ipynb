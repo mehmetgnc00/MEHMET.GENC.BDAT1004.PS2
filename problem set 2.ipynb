{
 "cells": [
  {
   "cell_type": "markdown",
   "metadata": {},
   "source": [
    "# Question 1\n",
    "Consider the following Python module:\n",
    "a = 0\n",
    "def b():\n",
    " global a\n",
    " a = c(a)\n",
    "def c(a):\n",
    " return a + 2\n",
    "After importing the module into the interpreter, you execute:\n",
    ">>> b()\n",
    ">>> b()\n",
    ">>> b()\n",
    ">>> a\n",
    "?\n",
    "What value is displayed when the last expression (a) is evaluated? Explain your\n",
    "answer by indicating what happens in every executed statement."
   ]
  },
  {
   "cell_type": "code",
   "execution_count": 1,
   "metadata": {},
   "outputs": [],
   "source": [
    "a = 0\n",
    "def b():\n",
    "    global a\n",
    "    a = c(a)\n",
    "def c(a):\n",
    "    return a + 2"
   ]
  },
  {
   "cell_type": "code",
   "execution_count": 2,
   "metadata": {},
   "outputs": [
    {
     "data": {
      "text/plain": [
       "6"
      ]
     },
     "execution_count": 2,
     "metadata": {},
     "output_type": "execute_result"
    }
   ],
   "source": [
    "b() # 0+2\n",
    "b() #2+2\n",
    "b() #4+2\n",
    "a   #6"
   ]
  },
  {
   "cell_type": "markdown",
   "metadata": {},
   "source": [
    "# Question 2\n",
    "Function fileLength(), given to you, takes the name of a file as input and returns\n",
    "the length of the file:\n",
    ">>> fileLength('midterm.py')\n",
    "284\n",
    ">>> fileLength('idterm.py')\n",
    "Traceback (most recent call last):\n",
    "File \"<pyshell#34>\", line 1, in <module>\n",
    " fileLength('idterm.py')\n",
    "File \"/Users/me/midterm.py\", line 3, in fileLength\n",
    " infile = open(filename)\n",
    "FileNotFoundError: [Errno 2] No such file or directory:\n",
    "'idterm.py'\n",
    "As shown above, if the file cannot be found by the interpreter or if it cannot be read\n",
    "as a text file, an exception will be raised. Modify function fileLength() so that a\n",
    "friendly message is printed instead:\n",
    ">>> fileLength('midterm.py')\n",
    "358\n",
    ">>> fileLength('idterm.py')\n",
    "File idterm.py not found.\n"
   ]
  },
  {
   "cell_type": "code",
   "execution_count": 6,
   "metadata": {},
   "outputs": [
    {
     "name": "stdout",
     "output_type": "stream",
     "text": [
      "9816934\n",
      "File Assignment zero.ipynb not found.\n"
     ]
    }
   ],
   "source": [
    "def fileLength(filename):\n",
    "        #reading data\n",
    "        try:\n",
    "                f=open(filename,'r')\n",
    "                \n",
    "                data=f.readlines()\n",
    "               \n",
    "                line=\"\"\n",
    "                for i in data:\n",
    "                        line+=i\n",
    "                result=len(line)\n",
    "                return result\n",
    "        except FileNotFoundError:\n",
    "                return (\"File {} not found.\".format(filename))\n",
    "\n",
    "print(fileLength('Assignment 1.ipynb'))\n",
    "print(fileLength('Assignment zero.ipynb'))"
   ]
  },
  {
   "cell_type": "markdown",
   "metadata": {},
   "source": [
    "# Question 3\n",
    "Write a class named Marsupial that can be used as shown below:\n",
    ">>> m = Marsupial()\n",
    ">>> m.put_in_pouch('doll')\n",
    ">>> m.put_in_pouch('firetruck')\n",
    ">>> m.put_in_pouch('kitten')\n",
    ">>> m.pouch_contents()\n",
    "['doll', 'firetruck', 'kitten']\n",
    "Now write a class named Kangaroo as a subclass of Marsupial that inherits all the\n",
    "attributes of Marsupial and also:\n",
    "a. extends the Marsupial __init__ constructor to take, as input, the\n",
    "coordinates x and y of the Kangaroo object,\n",
    "b. supports method jump that takes number values dx and dy as input and\n",
    "moves the kangaroo by dx units along the x-axis and by dy units along the yaxis, and\n",
    "c. overloads the __str__ operator so it behaves as shown below.\n",
    ">>> k = Kangaroo(0,0)\n",
    ">>> print(k)\n",
    "I am a Kangaroo located at coordinates (0,0)\n",
    ">>> k.put_in_pouch('doll')\n",
    ">>> k.put_in_pouch('firetruck')\n",
    ">>> k.put_in_pouch('kitten')\n",
    ">>> k.pouch_contents()\n",
    "['doll', 'firetruck', 'kitten']\n",
    ">>> k.jump(1,0)\n",
    ">>> k.jump(1,0)\n",
    ">>> k.jump(1,0)\n",
    ">>> print(k)\n",
    "I am a Kangaroo located at coordinates (3,0)\n"
   ]
  },
  {
   "cell_type": "code",
   "execution_count": 3,
   "metadata": {},
   "outputs": [
    {
     "name": "stdout",
     "output_type": "stream",
     "text": [
      "I am a Kanagroo located at coordinates (0,0)\n",
      "['doll', 'firetruck', 'kitten']\n",
      "I am a Kanagroo located at coordinates (3,0)\n"
     ]
    }
   ],
   "source": [
    "class Marsupial:\n",
    "      def __init__(self):\n",
    "        self.pouch=[]\n",
    "      def put_in_pouch(self, item):\n",
    "        self.pouch.append(item)\n",
    "      def pouch_contents(self):\n",
    "        return self.pouch\n",
    "class Kangaroo(Marsupial):\n",
    "      def __init__(self, x,y):\n",
    "        Marsupial.__init__(self)\n",
    "        self.x=x\n",
    "        self.y=y\n",
    "      def jump(self, dx, dy):\n",
    "        self.x+=dx\n",
    "        self.x+=dy\n",
    "      def __str__(self):\n",
    "        return \"I am a Kanagroo located at coordinates (\"+str(self.x)+\",\"+str(self.y)+\")\"\n",
    "k = Kangaroo(0,0)\n",
    "print(k)\n",
    "k.put_in_pouch('doll')\n",
    "k.put_in_pouch('firetruck')\n",
    "k.put_in_pouch('kitten')\n",
    "print(k.pouch_contents())\n",
    "k.jump(1,0)\n",
    "k.jump(1,0)\n",
    "k.jump(1,0)\n",
    "print(k)"
   ]
  },
  {
   "cell_type": "markdown",
   "metadata": {},
   "source": [
    "# Question 4\n",
    "Write function collatz() that takes a positive integer x as input and prints the\n",
    "Collatz sequence starting at x. A Collatz sequence is obtained by repeatedly applying\n",
    "this rule to the previous number x in the sequence:\n",
    "x = {\n",
    "𝑥/2 𝑖𝑓 𝑥 𝑖𝑠 𝑒𝑣𝑒𝑛\n",
    "3𝑥 + 1 𝑖𝑓 𝑥 𝑖𝑠 𝑜𝑑𝑑\n",
    "Your function should stop when the sequence gets to number 1. Your\n",
    "implementation must be recursive, without any loops."
   ]
  },
  {
   "cell_type": "code",
   "execution_count": 4,
   "metadata": {},
   "outputs": [
    {
     "name": "stdout",
     "output_type": "stream",
     "text": [
      "10\n",
      "5.0\n",
      "16.0\n",
      "8.0\n",
      "4.0\n",
      "2.0\n",
      "1.0\n"
     ]
    }
   ],
   "source": [
    "def main():\n",
    "    collatz(10)\n",
    "def collatz(x):\n",
    "    if x == 1:\n",
    "       print (x)\n",
    "    elif x % 2 == 0:\n",
    "       print (x)\n",
    "       x = x/2\n",
    "       collatz(x)\n",
    "    else:\n",
    "       print (x)\n",
    "       x = 3*x + 1\n",
    "       collatz(x)\n",
    "if __name__ == \"__main__\":\n",
    "    main()"
   ]
  },
  {
   "cell_type": "markdown",
   "metadata": {},
   "source": [
    "# Question 5\n",
    "Write a recursive method binary() that takes a non-negative\n",
    "integer n and prints the binary representation of integer n."
   ]
  },
  {
   "cell_type": "code",
   "execution_count": 5,
   "metadata": {},
   "outputs": [],
   "source": [
    "def binary(n):\n",
    "    s = str(n % 2)\n",
    "\n",
    "    if n >> 1 > 0:\n",
    "        s += binary(n >> 1)\n",
    "\n",
    "    return s"
   ]
  },
  {
   "cell_type": "code",
   "execution_count": 6,
   "metadata": {},
   "outputs": [
    {
     "data": {
      "text/plain": [
       "'0'"
      ]
     },
     "execution_count": 6,
     "metadata": {},
     "output_type": "execute_result"
    }
   ],
   "source": [
    "binary(0)"
   ]
  },
  {
   "cell_type": "code",
   "execution_count": 7,
   "metadata": {},
   "outputs": [
    {
     "data": {
      "text/plain": [
       "'1'"
      ]
     },
     "execution_count": 7,
     "metadata": {},
     "output_type": "execute_result"
    }
   ],
   "source": [
    "binary(1)"
   ]
  },
  {
   "cell_type": "code",
   "execution_count": 8,
   "metadata": {},
   "outputs": [
    {
     "data": {
      "text/plain": [
       "'11'"
      ]
     },
     "execution_count": 8,
     "metadata": {},
     "output_type": "execute_result"
    }
   ],
   "source": [
    "binary(3)"
   ]
  },
  {
   "cell_type": "code",
   "execution_count": 9,
   "metadata": {},
   "outputs": [
    {
     "data": {
      "text/plain": [
       "'1001'"
      ]
     },
     "execution_count": 9,
     "metadata": {},
     "output_type": "execute_result"
    }
   ],
   "source": [
    "binary(9)"
   ]
  },
  {
   "cell_type": "markdown",
   "metadata": {},
   "source": [
    "# Question 6\n",
    "Implement a class named HeadingParser that can be used to parse an HTML document, and retrieve and print all the headings in the document. You should implement your class as a subclass of HTMLParser, defined in Standard Library\n",
    "module html.parser. When fed a string containing HTML code, your class should print the headings, one per line and in the order in which they appear in the\n",
    "document. Each heading should be indented as follows: an h1 heading should have indentation 0, and h2 heading should have indentation 1, etc. Test your\n",
    "implementation using w3c.html.\n",
    ">>> infile = open('w3c.html')\n",
    ">>> content = infile.read()\n",
    ">>> infile.close()\n",
    ">>> hp = HeadingParser()\n",
    ">>> hp.feed(content)\n",
    "W3C Mission\n",
    "Principles\n"
   ]
  },
  {
   "cell_type": "code",
   "execution_count": 2,
   "metadata": {},
   "outputs": [
    {
     "name": "stdout",
     "output_type": "stream",
     "text": [
      " \n",
      "\n",
      " \n",
      "\n",
      "W3C Mission Summary\n",
      " \n",
      "\n",
      "\n",
      "\n",
      "\n",
      "\n",
      "h1\n",
      "W3C Mission\n",
      "h1\n",
      "\n",
      "\n",
      "\n",
      "The W3C mission is to lead the World Wide Web to its full potential\n",
      "\n",
      "by developing protocols and guidelines that ensure the long-term growth of the Web.\n",
      "\n",
      "\n",
      "\n",
      "h2\n",
      "Principles\n",
      "h2\n",
      "\n",
      "\n",
      "\n",
      "\n",
      "Web for All\n",
      "\n",
      "\n",
      "Web on Everything\n",
      "\n",
      "\n",
      "\n",
      "See the complete \n",
      "W3C Mission document\n",
      ".\n",
      "\n",
      "\n",
      "\n"
     ]
    }
   ],
   "source": [
    "from html.parser import HTMLParser\n",
    "\n",
    "class HeadingParser(HTMLParser):\n",
    "    \n",
    "    headers = ['h1', 'h2', 'h3', 'h4', 'h5', 'h6']\n",
    "\n",
    "    \n",
    "    def handle_starttag(self, tag, attrs):\n",
    "        if tag in self.headers:\n",
    "            print(tag)\n",
    "\n",
    "    def handle_endtag(self, tag):\n",
    "        if tag in self.headers:\n",
    "            print(tag)\n",
    "\n",
    "    def handle_data(self, data):\n",
    "        print(data)\n",
    "\n",
    "# TEST HERE\n",
    "parser = HeadingParser()\n",
    "infile = open('C:\\\\Users\\\\GNC\\\\Downloads\\\\Week 06\\\\Week 06\\\\w3c.html')\n",
    "content = infile.read()\n",
    "infile.close()\n",
    "hp = HeadingParser()\n",
    "hp.feed(content)"
   ]
  },
  {
   "cell_type": "markdown",
   "metadata": {},
   "source": [
    "# Question 7\n",
    "Implement recursive function webdir() that takes as input: a URL (as a string) and\n",
    "non-negative integers depth and indent. Your function should visit every web\n",
    "page reachable from the starting URL web page in depth clicks or less, and print\n",
    "each web page's URL. As shown below, indentation, specified by indent, should\n",
    "be used to indicate the depth of a URL.\n",
    ">>>\n",
    "webdir('http://reed.cs.depaul.edu/lperkovic/csc242/test1.html'\n",
    ", 2, 0)\n",
    "http://reed.cs.depaul.edu/lperkovic/csc242/test1.html\n",
    " http://reed.cs.depaul.edu/lperkovic/csc242/test2.html\n",
    " http://reed.cs.depaul.edu/lperkovic/csc242/test4.html\n",
    " http://reed.cs.depaul.edu/lperkovic/csc242/test3.html\n",
    " http://reed.cs.depaul.edu/lperkovic/csc242/test4.html"
   ]
  },
  {
   "cell_type": "code",
   "execution_count": 4,
   "metadata": {},
   "outputs": [
    {
     "name": "stdout",
     "output_type": "stream",
     "text": [
      "<class 'http.client.HTTPResponse'>\n",
      "https://www.w3.org/Consortium/facts.html\n",
      "('date', 'Fri, 05 Mar 2021 01:31:10 GMT')\n",
      "('last-modified', 'Mon, 04 Jan 2021 13:50:31 GMT')\n",
      "('etag', '\"63c5-5b8135f9457c0\"')\n",
      "('accept-ranges', 'bytes')\n",
      "('content-length', '25541')\n",
      "('cache-control', 'max-age=21600')\n",
      "('expires', 'Fri, 05 Mar 2021 07:31:10 GMT')\n",
      "('vary', 'Accept-Encoding')\n",
      "('content-type', 'text/html; charset=utf-8')\n",
      "('x-backend', 'ssl-mirrors')\n",
      "('strict-transport-security', 'max-age=15552000; includeSubdomains; preload')\n",
      "('content-security-policy', 'upgrade-insecure-requests')\n",
      "('connection', 'close')\n",
      "<class 'bytes'>\n",
      "<class 'str'>\n"
     ]
    },
    {
     "data": {
      "text/plain": [
       "'<!DOCTYPE html PUBLIC \"-//W3C//DTD XHTML 1.0 Strict//EN\" \"http://www.w3.org/TR/xhtml1/DTD/xhtml1-strict.dtd\">\\n<html xmlns=\"http://www.w3.org/1999/xhtml\" xml:lang=\"en\" lang=\"en\">\\n  <head>\\n    <meta http-equiv=\"content-type\" content=\"application/xhtml+xml; charset=utf-8\" />\\n    <title>Facts About W3C</title>\\n    <link rel=\"stylesheet\" href=\"/2008/site/css/minimum\" type=\"text/css\" media=\"handheld, all\" />\\n    <style type=\"text/css\" media=\"print, screen and (min-width: 481px)\" xml:space=\"preserve\">\\n     @import url(\"/2008/site/css/advanced\");\\n</style><link href=\"/2008/site/css/minimum\" rel=\"stylesheet\" type=\"text/css\" media=\"handheld, only screen and (max-device-width: 480px)\" />\\n    <meta name=\"viewport\" content=\"width=device-width\" />\\n    <link rel=\"stylesheet\" href=\"/2008/site/css/print\" type=\"text/css\" media=\"print\" />\\n    <link rel=\"shortcut icon\" href=\"/2008/site/images/favicon.ico\" type=\"image/x-icon\" />\\n  </head>\\n  <body id=\"www-w3-org\" class=\"w3c_public\">\\n    <div id=\"w3c_container\">\\n      <div id=\"w3c_mast\">\\n        <h1 class=\"logo\"> <a tabindex=\"2\" accesskey=\"1\" href=\"/\"><img src=\"/2008/site/images/logo-w3c-mobile-lg\"\\n              alt=\"W3C\" height=\"53\" width=\"90\" /></a> <span class=\"alt-logo\">W3C</span>\\n        </h1>\\n        <div id=\"w3c_nav\">\\n          <form action=\"/Help/search\" method=\"get\" enctype=\"application/x-www-form-urlencoded\">\\n            <div class=\"w3c_sec_nav\"><!-- --></div>\\n            <ul class=\"main_nav\">\\n              <li class=\"first-item\"> <a href=\"/standards/\">Standards</a> </li>\\n              <li> <a href=\"/participate/\">Participate</a> </li>\\n              <li> <a href=\"/Consortium/membership\">Membership</a> </li>\\n              <li class=\"last-item\"> <a href=\"/Consortium/\">About W3C</a> </li>\\n              <li class=\"search-item\">\\n                <div id=\"search-form\"> <input tabindex=\"3\" class=\"text\" name=\"q\"\\n                    value=\"\" title=\"Search\" type=\"text\" /> <button id=\"search-submit\"\\n                    name=\"search-submit\" type=\"submit\"><img class=\"submit\" src=\"/2008/site/images/search-button\"\\n                      alt=\"Search\" height=\"17\" width=\"21\" /></button> </div>\\n              </li>\\n            </ul>\\n          </form>\\n        </div>\\n      </div>\\n      <div id=\"w3c_main\">\\n        <div id=\"w3c_logo_shadow\" class=\"w3c_leftCol\"> <img alt=\"\" src=\"/2008/site/images/logo-shadow\"\\n            height=\"32\" /> </div>\\n        <div class=\"w3c_leftCol\">\\n          <h2 class=\"offscreen\">Site Navigation</h2>\\n          <h3 class=\"category\"><span class=\"ribbon\"><a href=\"/Consortium/\" title=\"Up to About W3C\">About\\n                W3C <img src=\"/2008/site/images/header-link\" alt=\"Header link\"\\n                  class=\"header-link\" height=\"13\" width=\"13\" /></a></span></h3>\\n          <ul class=\"theme\">\\n            <li><a href=\"/Consortium/mission.html\">W3C Mission</a></li>\\n            <li><a class=\"current\">Facts About W3C</a></li>\\n            <li><a href=\"/Consortium/presskit.html\">Press and Analysts</a></li>\\n            <li><a href=\"/Consortium/sponsor/\">Sponsorships and Donations</a></li>\\n            <li><a href=\"/Consortium/Recruitment/\">Jobs and Fellowships</a></li>\\n            <li><a href=\"/Consortium/contact.html\">Contact</a></li>\\n            <li><a href=\"/Help/\">Help and FAQ</a></li>\\n          </ul>\\n          <br />\\n        </div>\\n        <div class=\"w3c_mainCol\">\\n          <div id=\"w3c_crumbs\">\\n            <div id=\"w3c_crumbs_frame\">\\n              <ul class=\"bct\">\\n                <!-- .bct / Breadcrumbs -->\\n                <li class=\"skip\"><a tabindex=\"1\" accesskey=\"2\" title=\"Skip to content (e.g., when browsing via audio)\"\\n                    href=\"#w3c_content_body\">Skip</a></li>\\n                <li><a href=\"/\">W3C</a>\\xa0<span class=\"cr\">»</span>\\xa0</li>\\n                <li><a href=\"/Consortium/\">About\\xa0W3C</a>\\xa0<span class=\"cr\">»</span>\\xa0</li>\\n                <li class=\"current\">Facts About W3C</li>\\n              </ul>\\n            </div>\\n          </div>\\n          <h1 class=\"title\">Facts About W3C</h1>\\n          <ul class=\"w3c_toc\">\\n            <li class=\"toc_prefix\">On this page → </li>\\n            <li><a href=\"#people\">people\\xa0of\\xa0W3C</a><span class=\"bullet\">\\xa0• </span></li>\\n            <li><a href=\"#org\">organizational\\xa0structure</a><span class=\"bullet\">\\xa0•\\n                </span></li>\\n            <li><a href=\"#revenue\">revenue\\xa0model</a><span class=\"bullet\">\\xa0• </span></li>\\n            <li><a href=\"#international\">international\\xa0participation</a><span class=\"bullet\">\\xa0•\\n                </span></li>\\n            <li><a href=\"#process\">process</a><span class=\"bullet\">\\xa0• </span></li>\\n            <li><a href=\"#patpol\">patent\\xa0policy</a><span class=\"bullet\">\\xa0• </span></li>\\n            <li><a href=\"#history\">history</a></li>\\n          </ul>\\n          <div id=\"w3c_content_body\">\\n            <div class=\"line\">\\n              <div class=\"unit size3on4\">\\n                <p class=\"intro tPadding\"> The World Wide Web Consortium\\n                  achieves its <a href=\"mission\">mission</a> by bringing\\n                  diverse stake-holders together, under a clear and effective\\n                  consensus-based process to develop <a href=\"/standards/\">high-quality\\n                    standards</a> based on contributions from the W3C Members,\\n                  staff, and the community at large. </p>\\n                <h2 id=\"people\">People of W3C</h2>\\n                <p style=\"float: right\" class=\"lPadding tPadding\"> <a class=\"imageLink\"\\n                    href=\"https://www.w3.org/2013/11/w3cteam\"> <img src=\"http://www.w3.org/2013/11/team-photo-small\"\\n                      alt=\"W3C Team\" /> </a> </p>\\n                <p>W3C is led by <a href=\"/People/Berners-Lee/\">Tim Berners-Lee</a>,\\n                  inventor of the World Wide Web and Director and <a href=\"/People/Jeff/\">Dr.\\n                    Jeffrey Jaffe, W3C CEO</a>. They are supported by a <a href=\"/People\">staff</a>\\n                  of technical experts who help coordinate technology\\n                  development and manage the operations of the Consortium.</p>\\n                <p><a href=\"/Consortium/evangelists/\">W3C Evangelists</a>\\n                  represent W3C in various locations and are an extension of\\n                  W3C’s <a href=\"/People/functions/bizdev\">Business Development\\n                    Team</a>. They are responsible for identifying and\\n                  recruiting new <a href=\"/Consortium/Member/List\">W3C Members</a>,\\n                  running local events, promoting <a href=\"https://www.edx.org/school/w3cx\">W3C\\n                    Training</a> and fostering <a href=\"/Consortium/sponsor/\">Sponsorship</a>.\\n                  An Evangelist may cover all W3C technologies in a particular\\n                  geographic region or be responsible for a particular Vertical\\n                  Industry within an assigned geography.</p>\\n                <p> <a href=\"/Consortium/Member/List\">W3C Members</a> and\\n                  invited experts from the public provide energy to the <a href=\"/groups/\">groups</a>\\n                  that write <a href=\"/standards/\">W3C\\'s Web standards</a>.</p>\\n                <p>The broader Web community also plays an important role in\\n                  reviewing and providing input on specifications; there are\\n                  many ways to <a href=\"/participate/\">participate</a> in W3C\\n                  even as an individual.</p>\\n                <h2 id=\"org\">Organizational Structure</h2>\\n                <p>W3C does not have a typical organizational structure, nor is\\n                  it incorporated. Read more about the W3C\\'s <a href=\"https://www.w3.org/2016/08/2016-reorg.html\">functional\\n                    organization</a>. There are at least two ways to think about\\n                  how W3C is organized:</p>\\n                <ol class=\"show_items\">\\n                  <li>in administrative terms</li>\\n                  <li>in process terms</li>\\n                </ol>\\n                <p>In administrative terms: W3C is administered via a joint\\n                  agreement among these \"Host Institutions\": <a href=\"https://www.csail.mit.edu/\">\\n                    <abbr title=\"Massachusetts Institute of\\n                    Technology\">MIT</abbr> </a>, <a href=\"https://www.ercim.eu\">\\n                    <abbr title=\"European Research\\n\\t\\t\\t\\t    Consortium for Informatics and\\t\\t\\t\\t    Mathematics\">ERCIM</abbr> </a>,\\n                  <a href=\"http://www.keio.ac.jp/\">Keio University</a>, and <a\\n                    href=\"https://ev.buaa.edu.cn/\">Beihang University</a>. The <a\\n                    href=\"/People\">W3C staff</a> (many of whom work physically\\n                  at one of these institutions) is led by a Director and CEO. A\\n                  <a href=\"/People/functions/w3m\">management team</a>\\n                  is responsible for resource allocation and strategic planning\\n                  on behalf of the staff. The <a href=\"https://chapters.w3.org/\">W3C\\n                    Chapters</a> play an important role in W3C being an <a href=\"#international\">international\\n                    organization</a>. </p>\\n                <p>In process terms: the <a href=\"/Consortium/Process\">W3C\\n                    Process Document</a>, <a href=\"http://www.w3.org/2009/12/Member-Agreement\">Member\\n                    Agreement</a>, <a href=\"/Consortium/Patent-Policy/\">Patent\\n                    Policy</a>, and a few others documents establish the roles\\n                  and responsibilities of the parties involved in the making of\\n                  W3C standards. Some key components of the organization are:</p>\\n                <ul class=\"show_items\">\\n                  <li>The <a href=\"/Consortium/Process/#Intro\">Advisory\\n                      Committee</a>, composed of one representative from each <a\\n                      href=\"/Consortium/Member/List\">W3C Member</a>. The\\n                    Advisory Committee has a number of review roles in the W3C\\n                    Process, and they elect the Advisory Board and <abbr title=\"Technical Architecture\\n\\t\\t\\t\\t Group\">TAG</abbr>.</li>\\n                  <li>The <a href=\"/Consortium/Process/#AB\">Advisory\\n                      Board</a>, an advisory body elected by the Advisory\\n                    Committee.</li>\\n                  <li>The <a href=\"/Consortium/Process/#TAG\">Technical\\n                      Architecture Group (TAG)</a>, which primarily seeks to\\n                    document Web Architecture principles.</li>\\n                  <li>The W3C Director and CEO, who assess consensus for\\n                    W3C-wide decisions.</li>\\n                  <li>The <a href=\"/groups/\">chartered groups</a>,\\n                    populated by Member representatives and <a href=\"/participate/invited-experts/\">invited\\n                      experts</a>, and which produce most of W3C\\'s deliverables\\n                    according to the steps of the W3C Process.</li>\\n                </ul>\\n                <h2 id=\"revenue\">Revenue Model</h2>\\n                <p>W3C sources of revenue include:</p>\\n                <ul class=\"show_items\">\\n                  <li> <a href=\"/Consortium/fees\">W3C Member dues</a> </li>\\n                  <li> <a href=\"/Consortium/nmfunds/\">Research grants and other\\n                      sources of private and public funding</a> </li>\\n                  <li><a href=\"/Consortium/sponsor/\">Sponsorship\\n                      and donations</a></li>\\n                </ul>\\n                <h2 id=\"international\">International Participation</h2>\\n                <p>Organizations <a href=\"/Consortium/Member/stats\">located all\\n                    over the world</a> and involved in many different fields\\n                  join W3C to participate in a vendor-neutral forum for the\\n                  creation of Web standards. <a href=\"/Consortium/Member/List\">W3C\\n                    Members</a> and a dedicated <a href=\"/People\">full-time\\n                    staff of technical experts</a> have earned W3C international\\n                  recognition for its contributions to the Web. W3C\\'s global\\n                  efforts includes:</p>\\n                <ul class=\"show_items\">\\n                  <li> <a href=\"/2001/11/StdLiaison\">Liaisons</a> with\\n                    national, regional and international organizations around\\n                    the globe. These contacts help W3C maintain a culture of\\n                    global participation in the development of the World Wide\\n                    Web. W3C coordinates particularly closely with other\\n                    organizations that are developing standards for the Web or\\n                    Internet in order to enable clear progress.</li>\\n                  <li>The <a href=\"https://chapters.w3.org/\">W3C Chapters\\n                      Program</a>, which promotes adoption of W3C\\n                    recommendations among developers, application builders, and\\n                    standards setters, and encourage inclusions of stakeholder\\n                    organizations in the creation of future standards by joining\\n                    W3C.</li>\\n                  <li> <a href=\"Translation/Overview.html\">Translations</a> of\\n                    <a href=\"/standards/\">Web standards</a> and other materials\\n                    from dedicated volunteers in the W3C community. W3C also has\\n                    a <a href=\"/2005/02/TranslationPolicy.html\">policy for\\n                      authorized translations</a> of W3C materials. Authorized\\n                    W3C Translations can be used for official purposes in\\n                    languages other than English.</li>\\n                  <li> <a href=\"/Talks/\">Talks</a> around the world in a\\n                    variety of languages on Web standards by people closely\\n                    involved in the creation of the standards.</li>\\n                  <li> <a href=\"/International/\">W3C\\'s Internationalization\\n                      Activity</a> helps ensure that the Web is available to\\n                    people.</li>\\n                </ul>\\n                <h2 id=\"process\">Process</h2>\\n                <p>Most W3C work revolves around the standardization of Web\\n                  technologies. To accomplish this work, W3C follows <a href=\"/Consortium/Process/\">processes</a>\\n                  that promote the development of high-quality standards based\\n                  on community <strong>consensus</strong>; an <a href=\"/Consortium/Process/#Intro\">introduction\\n                    to the W3C Process</a> gives a sense of how W3C gets work\\n                  done. <strong>All stakeholders</strong> can have a voice in\\n                  the development of W3C standards, including Members large and\\n                  small, as well as the public. W3C processes promote fairness,\\n                  responsiveness, and progress: all facets of the W3C <a href=\"mission\">mission</a>.</p>\\n                <p>In August 2011, W3C created <a href=\"http://www.w3.org/community/\">Community\\n                    and Business Groups</a> with a lighter-weight <a href=\"http://www.w3.org/community/about/agreements/\">process</a>\\n                  to promote innovation.</p>\\n                <p>In October 2014, W3C published a <a href=\"/Consortium/pwe/\">Positive\\n                    Work Environment</a> framework that includes a <a href=\"/Consortium/cepc/\">Code\\n                    of Ethics and Professional Conduct</a> for the W3C Community\\n                  to follow.</p>\\n                <p>See also <a href=\"/Consortium/Legal/\">W3C legal and policy\\n                    information</a>.</p>\\n                <h2 id=\"patpol\">Patent Policy</h2>\\n                <p>In February 2004, W3C adopted a <a href=\"http://www.w3.org/Consortium/Patent-Policy/\">Patent\\n                    Policy</a> for Working Groups to enable continued innovation\\n                  and widespread adoption of Web standards developed by the\\n                  World Wide Web Consortium. The W3C Patent Policy is designed\\n                  to:</p>\\n                <ul class=\"show_items\">\\n                  <li>Facilitate the development of W3C Recommendations by W3C\\n                    Working Groups;</li>\\n                  <li>Promote the widespread implementation of those\\n                    Recommendations on a Royalty-Free (RF) basis;</li>\\n                  <li>Address issues related to patents that arise during and\\n                    after the development of a Recommendation.</li>\\n                </ul>\\n                <p>In August 2011, W3C adopted a <a href=\"http://www.w3.org/community/about/agreements/cla/\">Community\\n                    Contributor License Agreement</a> with Royalty-Free patent\\n                  licensing terms and permissive copyright for <a href=\"/community/\">W3C\\n                    Community and Business Groups</a>. See also the <a href=\"http://www.w3.org/community/about/agreements/final/\">Final\\n                    Specification Agreement</a>, which further increases patent\\n                  protection around Community and Business Group Specifications.</p>\\n                <p>More resources</p>\\n                <ul class=\"show_items\">\\n                  <li> <a href=\"/2003/12/22-pp-faq.html\">Patent Policy FAQ</a>\\n                  </li>\\n                  <li> <a href=\"/2004/02/05-patentsummary.html\">Policy Summary</a>\\n                  </li>\\n                  <li> <a href=\"/2004/03/pp-points-20040210.html\">Business\\n                      Benefits</a> </li>\\n                </ul>\\n                <h2 id=\"history\">History</h2>\\n                <p class=\"tPadding\">In 1989, <a href=\"/People/Berners-Lee/\">Tim\\n                    Berners-Lee</a> invented the World Wide Web (see the <a href=\"http://www.w3.org/History/1989/proposal.html\">original\\n                    proposal</a>). He coined the term \"World Wide Web,\" wrote\\n                  the first World Wide Web server, \"httpd,\" and the first client\\n                  program (a browser and editor), \"WorldWideWeb,\" in October\\n                  1990. He wrote the first version of the \"HyperText Markup\\n                  Language\" (<abbr>HTML</abbr>), the document formatting\\n                  language with the capability for hypertext links that became\\n                  the primary publishing format for the Web. His initial\\n                  specifications for URIs, HTTP, and HTML were refined and\\n                  discussed in larger circles as Web technology spread. </p>\\n                <div style=\"float:left\">\\n                  <p> <a href=\"/2004/09/W3C10.html\"> <img class=\"w3c_image\" src=\"/2004/12/W3C10-Photos/Set.jpg\"\\n                        alt=\"Some of the individuals\\n                      involved in the creation of the Web and of W3C                      recount key events at the Tenth Anniversary\\n                      Celebration of W3C\" height=\"225\" width=\"300\" /> </a> <br />\\n                    <a href=\"/2004/09/W3C10.html\">W3C10</a> panel recounts early\\n                    Web history.</p>\\n                </div>\\n                <p>In October 1994, Tim Berners-Lee founded the World\\n                  Wide Web Consortium (W3C) at the Massachusetts\\n                  Institute of Technology, Laboratory for Computer\\n                  Science [MIT/LCS] in collaboration\\n                  with <a href=\"http://www.cern.ch/\">CERN</a>, where\\n                  the Web originated (see information on\\n                  the <a href=\"http://www.w3.org/Daemon/\">original\\n                  CERN Server</a>), with support from DARPA and\\n                  the <a href=\"https://ec.europa.eu/info/index_en\">European\\n                  Commission</a>. In April\\n                  1995, <a href=\"https://www.inria.fr/fr\">INRIA (Institut\\n                  National de Recherche en Informatique et\\n                  Automatique)</a> became the first European W3C host,\\n                  followed by <a href=\"http://www.keio.ac.jp/\">Keio\\n                  University of Japan</a> (Shonan Fujisawa Campus) in\\n                  Asia in 1996. In\\n                  2003, <a href=\"https://www.ercim.eu/\">ERCIM\\n                  (European Research Consortium in Informatics and\\n                  Mathematics)</a> took over the role of European W3C\\n                  Host from INRIA. In 2013,\\n                  W3C <a href=\"http://www.w3.org/2013/01/china-host.html.en\">announced</a>\\n                  <a href=\"https://ev.buaa.edu.cn/\">Beihang University</a> as the\\n                  fourth Host.</p>\\n                <div class=\"line\" style=\"clear: left\">\\n                  <div class=\"unit size1on2\">\\n                    <h3>More history resources</h3>\\n                    <ul class=\"show_items\">\\n                      <li> <a href=\"/News/archive\">W3C News Archive</a> </li>\\n                      <li> <a href=\"/Press/\">Press Release Archive</a> </li>\\n                      <li> <a href=\"/TR/tr-date-stds.html\">W3C Standards by\\n                          Date</a> </li>\\n                      <li> <a href=\"/2004/09/W3C10.html\">W3C\\'s Tenth\\n                          Anniversary</a> </li>\\n                      <li> <a href=\"/History.html\">A Little Web History</a> </li>\\n                    </ul>\\n                  </div>\\n                  <div class=\"unit size1on2 lastUnit\">\\n                    <p> <a href=\"http://www.w3.org/2005/01/timelines/timeline-2500x998.png\">\\n                        <img class=\"w3c_image\" src=\"/2005/01/timelines/timeline-thumbnail.png\"\\n                          alt=\"W3C time line\" /> </a> </p>\\n                    <p> <a href=\"/2004/09/W3C10.html\">W3C10</a> Time Line\\n                      Graphic<br />\\n                      (<a href=\"http://www.w3.org/2005/01/timelines/\">other\\n                        formats</a> and <a href=\"http://www.w3.org/2005/01/timelines/description\">description</a>)</p>\\n                  </div>\\n                </div>\\n              </div>\\n              <div class=\"unit size1on4 lastUnit w3c_rhs\">\\n                <h2 class=\"h4 category\">W3C Community</h2>\\n                <ul class=\"theme right-list\">\\n                  <li><a href=\"/People\">Staff</a></li>\\n                  <li><a href=\"https://chapters.w3.org/\">Chapters Program</a></li>\\n                  <li><a href=\"/Consortium/Member/List\">W3C Members</a></li>\\n                  <li><a href=\"/community/\">Community and Business Groups</a></li>\\n                  <li><a href=\"/2004/01/pp-impl/\">Group Participation</a></li>\\n                </ul>\\n                <h2 class=\"h4 category\">Reference Documents</h2>\\n                <ul class=\"theme right-list\">\\n                  <li> <a href=\"/Consortium/Process\">Process Document</a> </li>\\n                  <li> <a href=\"/Consortium/Patent-Policy/\">Patent Policy</a> </li>\\n                  <li> <a href=\"http://www.w3.org/2009/12/Member-Agreement\">Member\\n                      Agreement</a> </li>\\n                  <li> <a href=\"https://www.w3.org/Consortium/cepc/\">Code of\\n                      Ethics and Professional Conduct </a></li>\\n                  <li><a href=\"https://www.w3.org/Consortium/cepc/\"> </a><a href=\"/Consortium/Legal/\">Policies\\n                      and Legal</a> </li>\\n                </ul>\\n              </div>\\n            </div>\\n          </div>\\n        </div>\\n      </div>\\n    </div>\\n    <div id=\"w3c_footer\">\\n      <div id=\"w3c_footer-inner\">\\n        <h2 class=\"offscreen\">Footer Navigation</h2>\\n        <div class=\"w3c_footer-nav\">\\n          <h3>Navigation</h3>\\n          <ul class=\"footer_top_nav\">\\n            <li> <a href=\"/\">Home</a> </li>\\n            <li> <a href=\"/standards/\">Standards</a> </li>\\n            <li> <a href=\"/participate/\">Participate</a> </li>\\n            <li> <a href=\"/Consortium/membership\">Membership</a> </li>\\n            <li class=\"last-item\"> <a href=\"/Consortium/\">About W3C</a> </li>\\n          </ul>\\n        </div>\\n        <div class=\"w3c_footer-nav\">\\n          <h3>Contact W3C</h3>\\n          <ul class=\"footer_bottom_nav\">\\n            <li> <a href=\"/Consortium/contact\">Contact</a> </li>\\n            <li> <a accesskey=\"0\" href=\"/Help/\">Help and FAQ</a> </li>\\n            <li> <a href=\"/Consortium/sponsor/\">Donate</a> </li>\\n            <li> <a href=\"/Consortium/siteindex\">Site Map</a> </li>\\n            <li>\\n              <address id=\"w3c_signature\"> <a href=\"https://lists.w3.org/Archives/Public/site-comments/\">Feedback</a></address>\\n            </li>\\n          </ul>\\n        </div>\\n        <div class=\"w3c_footer-nav\">\\n          <h3>W3C Updates</h3>\\n          <ul class=\"footer_follow_nav\">\\n            <li> <a href=\"https://twitter.com/w3c\" title=\"Follow W3C on Twitter\">\\n                <img src=\"/2008/site/images/Twitter_bird_logo_2012.svg\" alt=\"Twitter\"\\n                  class=\"social-icon\" height=\"40\" /> </a> </li>\\n          </ul>\\n        </div>\\n        <p class=\"copyright\">Copyright © 2021 W3C <sup>®</sup> (<a href=\"https://www.csail.mit.edu/\">\\n            <abbr title=\"Massachusetts Institute of Technology\">MIT</abbr>\\n          </a>, <a href=\"https://www.ercim.eu/\"> <abbr title=\"European Research Consortium for Informatics and Mathematics\">\\n              ERCIM</abbr> </a>, <a href=\"http://www.keio.ac.jp/\">Keio</a>,\\n          <a href=\"https://ev.buaa.edu.cn/\">Beihang</a>) <a href=\"/Consortium/Legal/ipr-notice\">Usage\\n            policies apply</a>.</p>\\n      </div>\\n    </div>\\n    <!-- Generated from data/scripts.php, ../../smarty/{scripts.tpl} --><!-- At the bottom for performance reasons -->\\n    <div id=\"w3c_scripts\">\\n      <script type=\"text/javascript\" src=\"/2008/site/js/main\" xml:space=\"preserve\"><!-- --></script>\\n    </div>\\n  </body>\\n</html>\\n'"
      ]
     },
     "execution_count": 4,
     "metadata": {},
     "output_type": "execute_result"
    }
   ],
   "source": [
    "from urllib.request import urlopen\n",
    "response = urlopen('http://www.w3c.org/Consortium/facts.html')\n",
    "print(type(response))\n",
    "\n",
    "print(response.geturl())\n",
    "\n",
    "for header in response.getheaders():\n",
    "    print(header)\n",
    "    \n",
    "html = response.read()\n",
    "print(type(html))\n",
    "html = html.decode()\n",
    "print(type(html))\n",
    "\n",
    "html"
   ]
  },
  {
   "cell_type": "markdown",
   "metadata": {},
   "source": [
    "# Question 8\n",
    "Write SQL queries on the below database table that return:\n",
    "a) All the temperature data.\n",
    "b) All the cities, but without repetition.\n",
    "c) All the records for India.\n",
    "d) All the Fall records.\n",
    "e) The city, country, and season for which the average rainfall is between 200\n",
    "and 400 millimeters.\n",
    "f) The city and country for which the average Fall temperature is above 20\n",
    "degrees, in increasing temperature order.\n",
    "g) The total annual rainfall for Cairo.\n",
    "h) The total rainfall for each season."
   ]
  },
  {
   "cell_type": "code",
   "execution_count": 11,
   "metadata": {},
   "outputs": [],
   "source": [
    "%load_ext sql"
   ]
  },
  {
   "cell_type": "code",
   "execution_count": 12,
   "metadata": {},
   "outputs": [
    {
     "data": {
      "text/plain": [
       "'Connected: @None'"
      ]
     },
     "execution_count": 12,
     "metadata": {},
     "output_type": "execute_result"
    }
   ],
   "source": [
    "%sql sqlite://"
   ]
  },
  {
   "cell_type": "code",
   "execution_count": 13,
   "metadata": {},
   "outputs": [
    {
     "name": "stdout",
     "output_type": "stream",
     "text": [
      " * sqlite://\n",
      "Done.\n"
     ]
    },
    {
     "data": {
      "text/plain": [
       "[]"
      ]
     },
     "execution_count": 13,
     "metadata": {},
     "output_type": "execute_result"
    }
   ],
   "source": [
    "%%sql\n",
    "CREATE TABLE wheather\n",
    "(\n",
    "city varchar(15),\n",
    "country varchar(15),\n",
    "season varchar(15),\n",
    "temperature float,\n",
    "rainfall float\n",
    ");"
   ]
  },
  {
   "cell_type": "code",
   "execution_count": 14,
   "metadata": {},
   "outputs": [
    {
     "name": "stdout",
     "output_type": "stream",
     "text": [
      " * sqlite://\n",
      "10 rows affected.\n"
     ]
    },
    {
     "data": {
      "text/plain": [
       "[]"
      ]
     },
     "execution_count": 14,
     "metadata": {},
     "output_type": "execute_result"
    }
   ],
   "source": [
    "%%sql\n",
    "INSERT INTO wheather VALUES('Mumbai', 'India', 'Winter', 24.8,5.9),\n",
    "('Mumbai', 'India', 'Spring', 28.4,16.2),\n",
    "('Mumbai', 'India', 'Summer', 27.9,1549.4),\n",
    "('Mumbai', 'India', 'Fall', 27.6,346.0),\n",
    "('London', 'United kingdom', 'Winter', 4.2,207.7),\n",
    "('London', 'United kingdom', 'Spring', 8.3,169.6),\n",
    "('London', 'United kingdom','Summer', 15.7,157.0),\n",
    "('London', 'United kingdom','Fall', 10.4,218.5),\n",
    "('Cairo', 'Egypt','Winter', 13.6,16.5),\n",
    "('Cairo', 'Egypt', 'Spring', 20.7,6.5);"
   ]
  },
  {
   "cell_type": "code",
   "execution_count": 15,
   "metadata": {},
   "outputs": [
    {
     "name": "stdout",
     "output_type": "stream",
     "text": [
      " * sqlite://\n",
      "Done.\n"
     ]
    },
    {
     "data": {
      "text/html": [
       "<table>\n",
       "    <tr>\n",
       "        <th>city</th>\n",
       "        <th>country</th>\n",
       "        <th>season</th>\n",
       "        <th>temperature</th>\n",
       "        <th>rainfall</th>\n",
       "    </tr>\n",
       "    <tr>\n",
       "        <td>Mumbai</td>\n",
       "        <td>India</td>\n",
       "        <td>Winter</td>\n",
       "        <td>24.8</td>\n",
       "        <td>5.9</td>\n",
       "    </tr>\n",
       "    <tr>\n",
       "        <td>Mumbai</td>\n",
       "        <td>India</td>\n",
       "        <td>Spring</td>\n",
       "        <td>28.4</td>\n",
       "        <td>16.2</td>\n",
       "    </tr>\n",
       "    <tr>\n",
       "        <td>Mumbai</td>\n",
       "        <td>India</td>\n",
       "        <td>Summer</td>\n",
       "        <td>27.9</td>\n",
       "        <td>1549.4</td>\n",
       "    </tr>\n",
       "    <tr>\n",
       "        <td>Mumbai</td>\n",
       "        <td>India</td>\n",
       "        <td>Fall</td>\n",
       "        <td>27.6</td>\n",
       "        <td>346.0</td>\n",
       "    </tr>\n",
       "    <tr>\n",
       "        <td>London</td>\n",
       "        <td>United kingdom</td>\n",
       "        <td>Winter</td>\n",
       "        <td>4.2</td>\n",
       "        <td>207.7</td>\n",
       "    </tr>\n",
       "    <tr>\n",
       "        <td>London</td>\n",
       "        <td>United kingdom</td>\n",
       "        <td>Spring</td>\n",
       "        <td>8.3</td>\n",
       "        <td>169.6</td>\n",
       "    </tr>\n",
       "    <tr>\n",
       "        <td>London</td>\n",
       "        <td>United kingdom</td>\n",
       "        <td>Summer</td>\n",
       "        <td>15.7</td>\n",
       "        <td>157.0</td>\n",
       "    </tr>\n",
       "    <tr>\n",
       "        <td>London</td>\n",
       "        <td>United kingdom</td>\n",
       "        <td>Fall</td>\n",
       "        <td>10.4</td>\n",
       "        <td>218.5</td>\n",
       "    </tr>\n",
       "    <tr>\n",
       "        <td>Cairo</td>\n",
       "        <td>Egypt</td>\n",
       "        <td>Winter</td>\n",
       "        <td>13.6</td>\n",
       "        <td>16.5</td>\n",
       "    </tr>\n",
       "    <tr>\n",
       "        <td>Cairo</td>\n",
       "        <td>Egypt</td>\n",
       "        <td>Spring</td>\n",
       "        <td>20.7</td>\n",
       "        <td>6.5</td>\n",
       "    </tr>\n",
       "</table>"
      ],
      "text/plain": [
       "[('Mumbai', 'India', 'Winter', 24.8, 5.9),\n",
       " ('Mumbai', 'India', 'Spring', 28.4, 16.2),\n",
       " ('Mumbai', 'India', 'Summer', 27.9, 1549.4),\n",
       " ('Mumbai', 'India', 'Fall', 27.6, 346.0),\n",
       " ('London', 'United kingdom', 'Winter', 4.2, 207.7),\n",
       " ('London', 'United kingdom', 'Spring', 8.3, 169.6),\n",
       " ('London', 'United kingdom', 'Summer', 15.7, 157.0),\n",
       " ('London', 'United kingdom', 'Fall', 10.4, 218.5),\n",
       " ('Cairo', 'Egypt', 'Winter', 13.6, 16.5),\n",
       " ('Cairo', 'Egypt', 'Spring', 20.7, 6.5)]"
      ]
     },
     "execution_count": 15,
     "metadata": {},
     "output_type": "execute_result"
    }
   ],
   "source": [
    "%%sql\n",
    "select * from wheather;"
   ]
  },
  {
   "cell_type": "code",
   "execution_count": 16,
   "metadata": {},
   "outputs": [
    {
     "name": "stdout",
     "output_type": "stream",
     "text": [
      " * sqlite://\n",
      "Done.\n"
     ]
    },
    {
     "data": {
      "text/html": [
       "<table>\n",
       "    <tr>\n",
       "        <th>temperature</th>\n",
       "    </tr>\n",
       "    <tr>\n",
       "        <td>24.8</td>\n",
       "    </tr>\n",
       "    <tr>\n",
       "        <td>28.4</td>\n",
       "    </tr>\n",
       "    <tr>\n",
       "        <td>27.9</td>\n",
       "    </tr>\n",
       "    <tr>\n",
       "        <td>27.6</td>\n",
       "    </tr>\n",
       "    <tr>\n",
       "        <td>4.2</td>\n",
       "    </tr>\n",
       "    <tr>\n",
       "        <td>8.3</td>\n",
       "    </tr>\n",
       "    <tr>\n",
       "        <td>15.7</td>\n",
       "    </tr>\n",
       "    <tr>\n",
       "        <td>10.4</td>\n",
       "    </tr>\n",
       "    <tr>\n",
       "        <td>13.6</td>\n",
       "    </tr>\n",
       "    <tr>\n",
       "        <td>20.7</td>\n",
       "    </tr>\n",
       "</table>"
      ],
      "text/plain": [
       "[(24.8,),\n",
       " (28.4,),\n",
       " (27.9,),\n",
       " (27.6,),\n",
       " (4.2,),\n",
       " (8.3,),\n",
       " (15.7,),\n",
       " (10.4,),\n",
       " (13.6,),\n",
       " (20.7,)]"
      ]
     },
     "execution_count": 16,
     "metadata": {},
     "output_type": "execute_result"
    }
   ],
   "source": [
    "%%sql\n",
    "select temperature from wheather;"
   ]
  },
  {
   "cell_type": "code",
   "execution_count": 18,
   "metadata": {},
   "outputs": [
    {
     "name": "stdout",
     "output_type": "stream",
     "text": [
      " * sqlite://\n",
      "Done.\n"
     ]
    },
    {
     "data": {
      "text/html": [
       "<table>\n",
       "    <tr>\n",
       "        <th>city</th>\n",
       "    </tr>\n",
       "    <tr>\n",
       "        <td>Mumbai</td>\n",
       "    </tr>\n",
       "    <tr>\n",
       "        <td>London</td>\n",
       "    </tr>\n",
       "    <tr>\n",
       "        <td>Cairo</td>\n",
       "    </tr>\n",
       "</table>"
      ],
      "text/plain": [
       "[('Mumbai',), ('London',), ('Cairo',)]"
      ]
     },
     "execution_count": 18,
     "metadata": {},
     "output_type": "execute_result"
    }
   ],
   "source": [
    "%%sql\n",
    "select distinct city from wheather;"
   ]
  },
  {
   "cell_type": "code",
   "execution_count": 20,
   "metadata": {},
   "outputs": [
    {
     "name": "stdout",
     "output_type": "stream",
     "text": [
      " * sqlite://\n",
      "Done.\n"
     ]
    },
    {
     "data": {
      "text/html": [
       "<table>\n",
       "    <tr>\n",
       "        <th>city</th>\n",
       "        <th>country</th>\n",
       "        <th>season</th>\n",
       "        <th>temperature</th>\n",
       "        <th>rainfall</th>\n",
       "    </tr>\n",
       "    <tr>\n",
       "        <td>Mumbai</td>\n",
       "        <td>India</td>\n",
       "        <td>Winter</td>\n",
       "        <td>24.8</td>\n",
       "        <td>5.9</td>\n",
       "    </tr>\n",
       "    <tr>\n",
       "        <td>Mumbai</td>\n",
       "        <td>India</td>\n",
       "        <td>Spring</td>\n",
       "        <td>28.4</td>\n",
       "        <td>16.2</td>\n",
       "    </tr>\n",
       "    <tr>\n",
       "        <td>Mumbai</td>\n",
       "        <td>India</td>\n",
       "        <td>Summer</td>\n",
       "        <td>27.9</td>\n",
       "        <td>1549.4</td>\n",
       "    </tr>\n",
       "    <tr>\n",
       "        <td>Mumbai</td>\n",
       "        <td>India</td>\n",
       "        <td>Fall</td>\n",
       "        <td>27.6</td>\n",
       "        <td>346.0</td>\n",
       "    </tr>\n",
       "</table>"
      ],
      "text/plain": [
       "[('Mumbai', 'India', 'Winter', 24.8, 5.9),\n",
       " ('Mumbai', 'India', 'Spring', 28.4, 16.2),\n",
       " ('Mumbai', 'India', 'Summer', 27.9, 1549.4),\n",
       " ('Mumbai', 'India', 'Fall', 27.6, 346.0)]"
      ]
     },
     "execution_count": 20,
     "metadata": {},
     "output_type": "execute_result"
    }
   ],
   "source": [
    "%%sql\n",
    "select * from wheather where country =='India';"
   ]
  },
  {
   "cell_type": "code",
   "execution_count": 21,
   "metadata": {},
   "outputs": [
    {
     "name": "stdout",
     "output_type": "stream",
     "text": [
      " * sqlite://\n",
      "Done.\n"
     ]
    },
    {
     "data": {
      "text/html": [
       "<table>\n",
       "    <tr>\n",
       "        <th>city</th>\n",
       "        <th>country</th>\n",
       "        <th>season</th>\n",
       "        <th>temperature</th>\n",
       "        <th>rainfall</th>\n",
       "    </tr>\n",
       "    <tr>\n",
       "        <td>Mumbai</td>\n",
       "        <td>India</td>\n",
       "        <td>Fall</td>\n",
       "        <td>27.6</td>\n",
       "        <td>346.0</td>\n",
       "    </tr>\n",
       "    <tr>\n",
       "        <td>London</td>\n",
       "        <td>United kingdom</td>\n",
       "        <td>Fall</td>\n",
       "        <td>10.4</td>\n",
       "        <td>218.5</td>\n",
       "    </tr>\n",
       "</table>"
      ],
      "text/plain": [
       "[('Mumbai', 'India', 'Fall', 27.6, 346.0),\n",
       " ('London', 'United kingdom', 'Fall', 10.4, 218.5)]"
      ]
     },
     "execution_count": 21,
     "metadata": {},
     "output_type": "execute_result"
    }
   ],
   "source": [
    "%%sql\n",
    "select * from wheather where season == 'Fall';"
   ]
  },
  {
   "cell_type": "code",
   "execution_count": 22,
   "metadata": {},
   "outputs": [
    {
     "name": "stdout",
     "output_type": "stream",
     "text": [
      " * sqlite://\n",
      "Done.\n"
     ]
    },
    {
     "data": {
      "text/html": [
       "<table>\n",
       "    <tr>\n",
       "        <th>city</th>\n",
       "        <th>country</th>\n",
       "        <th>season</th>\n",
       "    </tr>\n",
       "    <tr>\n",
       "        <td>Mumbai</td>\n",
       "        <td>India</td>\n",
       "        <td>Fall</td>\n",
       "    </tr>\n",
       "    <tr>\n",
       "        <td>London</td>\n",
       "        <td>United kingdom</td>\n",
       "        <td>Winter</td>\n",
       "    </tr>\n",
       "    <tr>\n",
       "        <td>London</td>\n",
       "        <td>United kingdom</td>\n",
       "        <td>Fall</td>\n",
       "    </tr>\n",
       "</table>"
      ],
      "text/plain": [
       "[('Mumbai', 'India', 'Fall'),\n",
       " ('London', 'United kingdom', 'Winter'),\n",
       " ('London', 'United kingdom', 'Fall')]"
      ]
     },
     "execution_count": 22,
     "metadata": {},
     "output_type": "execute_result"
    }
   ],
   "source": [
    "%%sql\n",
    "select city, country, season from wheather where rainfall between 200 and 400"
   ]
  },
  {
   "cell_type": "code",
   "execution_count": 23,
   "metadata": {},
   "outputs": [
    {
     "name": "stdout",
     "output_type": "stream",
     "text": [
      " * sqlite://\n",
      "Done.\n"
     ]
    },
    {
     "data": {
      "text/html": [
       "<table>\n",
       "    <tr>\n",
       "        <th>city</th>\n",
       "        <th>country</th>\n",
       "    </tr>\n",
       "    <tr>\n",
       "        <td>Mumbai</td>\n",
       "        <td>India</td>\n",
       "    </tr>\n",
       "</table>"
      ],
      "text/plain": [
       "[('Mumbai', 'India')]"
      ]
     },
     "execution_count": 23,
     "metadata": {},
     "output_type": "execute_result"
    }
   ],
   "source": [
    "%%sql\n",
    "select city, country from wheather where season == 'Fall' and temperature > 20 order by temperature ASC;"
   ]
  },
  {
   "cell_type": "code",
   "execution_count": 24,
   "metadata": {},
   "outputs": [
    {
     "name": "stdout",
     "output_type": "stream",
     "text": [
      " * sqlite://\n",
      "Done.\n"
     ]
    },
    {
     "data": {
      "text/html": [
       "<table>\n",
       "    <tr>\n",
       "        <th>total_annual_rainfall</th>\n",
       "    </tr>\n",
       "    <tr>\n",
       "        <td>23.0</td>\n",
       "    </tr>\n",
       "</table>"
      ],
      "text/plain": [
       "[(23.0,)]"
      ]
     },
     "execution_count": 24,
     "metadata": {},
     "output_type": "execute_result"
    }
   ],
   "source": [
    "%%sql\n",
    "select sum(rainfall) AS total_annual_rainfall from wheather where city == 'Cairo';"
   ]
  },
  {
   "cell_type": "code",
   "execution_count": 25,
   "metadata": {},
   "outputs": [
    {
     "name": "stdout",
     "output_type": "stream",
     "text": [
      " * sqlite://\n",
      "Done.\n"
     ]
    },
    {
     "data": {
      "text/html": [
       "<table>\n",
       "    <tr>\n",
       "        <th>season</th>\n",
       "        <th>total_rainfall</th>\n",
       "    </tr>\n",
       "    <tr>\n",
       "        <td>Fall</td>\n",
       "        <td>564.5</td>\n",
       "    </tr>\n",
       "    <tr>\n",
       "        <td>Spring</td>\n",
       "        <td>192.29999999999998</td>\n",
       "    </tr>\n",
       "    <tr>\n",
       "        <td>Summer</td>\n",
       "        <td>1706.4</td>\n",
       "    </tr>\n",
       "    <tr>\n",
       "        <td>Winter</td>\n",
       "        <td>230.1</td>\n",
       "    </tr>\n",
       "</table>"
      ],
      "text/plain": [
       "[('Fall', 564.5),\n",
       " ('Spring', 192.29999999999998),\n",
       " ('Summer', 1706.4),\n",
       " ('Winter', 230.1)]"
      ]
     },
     "execution_count": 25,
     "metadata": {},
     "output_type": "execute_result"
    }
   ],
   "source": [
    "%%sql\n",
    "select season, sum(rainfall) AS total_rainfall from wheather group by season;"
   ]
  },
  {
   "cell_type": "markdown",
   "metadata": {},
   "source": [
    "# Question 9\n",
    ". Suppose list words is defined as follows:\n",
    ">>> words = ['The', 'quick', 'brown', 'fox', 'jumps', 'over',\n",
    "'the', 'lazy', 'dog']\n",
    "Write list comprehension expressions that use list words and generate the following\n",
    "lists:\n",
    "a) ['THE', 'QUICK', 'BROWN', 'FOX', 'JUMPS', 'OVER', 'THE',\n",
    "'LAZY', 'DOG']\n",
    "b) ['the', 'quick', 'brown', 'fox', 'jumps', 'over', 'the',\n",
    "'lazy', 'dog']\n",
    "c) [3, 5, 5, 3, 5, 4, 3, 4, 3] (the list of lengths of words in list\n",
    "words).\n",
    "d) [['THE', 'the', 3], ['QUICK', 'quick', 5], ['BROWN',\n",
    "'brown', 5], ['FOX', 'fox', 3], ['JUMPS', 'jumps', 5],\n",
    "['OVER', 'over', 4], ['THE', 'the', 3], ['LAZY', 'lazy',\n",
    "4], ['DOG', 'dog', 3]] (the list containing a list for every word of list\n",
    "words, where each list contains the word in uppercase and lowercase and the\n",
    "length of the word.)\n",
    "e) ['The', 'quick', 'brown', 'fox', 'jumps', 'over', 'the',\n",
    "'lazy', 'dog'] (the list of words in list words containing 4 or more\n",
    "characters.)"
   ]
  },
  {
   "cell_type": "code",
   "execution_count": 26,
   "metadata": {},
   "outputs": [
    {
     "name": "stdout",
     "output_type": "stream",
     "text": [
      "['THE', 'QUICK', 'BROWN', 'FOX', 'JUMPS', 'OVER', 'THE', 'LAZY', 'DOG']\n",
      "['the', 'quick', 'brown', 'fox', 'jumps', 'over', 'the', 'lazy', 'dog']\n",
      "[3, 5, 5, 3, 5, 4, 3, 4, 3]\n",
      "[['THE', 'the', 3], ['QUICK', 'quick', 5], ['BROWN', 'brown', 5], ['FOX', 'fox', 3], ['JUMPS', 'jumps', 5], ['OVER', 'over', 4], ['THE', 'the', 3], ['LAZY', 'lazy', 4], ['DOG', 'dog', 3]]\n",
      "['quick', 'brown', 'jumps', 'over', 'lazy']\n"
     ]
    }
   ],
   "source": [
    "words = ['The', 'quick', 'brown', 'fox', 'jumps', 'over', 'the', 'lazy', 'dog']\n",
    "\n",
    "print([x.upper() for x in words])\n",
    "print([x.lower() for x in words])\n",
    "\n",
    "# Printing the list of lengths of words in list words\n",
    "print([len(x) for x in words])\n",
    "\n",
    "# Printing the list containing a list for every word of list words, where each list contains the word in uppercase and lowercase and the length of the word.\n",
    "print([[x.upper(), x.lower(), len(x)] for x in words])\n",
    "\n",
    "# Printing he list of words in list words containing 4 or more characters.\n",
    "print([x for x in words if len(x)>=4])"
   ]
  },
  {
   "cell_type": "code",
   "execution_count": null,
   "metadata": {},
   "outputs": [],
   "source": []
  }
 ],
 "metadata": {
  "kernelspec": {
   "display_name": "Python 3",
   "language": "python",
   "name": "python3"
  },
  "language_info": {
   "codemirror_mode": {
    "name": "ipython",
    "version": 3
   },
   "file_extension": ".py",
   "mimetype": "text/x-python",
   "name": "python",
   "nbconvert_exporter": "python",
   "pygments_lexer": "ipython3",
   "version": "3.8.5"
  }
 },
 "nbformat": 4,
 "nbformat_minor": 4
}
